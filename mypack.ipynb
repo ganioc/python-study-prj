{
 "cells": [
  {
   "cell_type": "code",
   "execution_count": 2,
   "metadata": {},
   "outputs": [
    {
     "name": "stdout",
     "output_type": "stream",
     "text": [
      "NOTEBOOK\n",
      "True\n",
      "False\n"
     ]
    }
   ],
   "source": [
    "import queue\n",
    "MyString='notebook'\n",
    "print(MyString.upper())\n",
    "\n",
    "MyQueue = queue.Queue(3)\n",
    "print(MyQueue.empty())\n",
    "\n",
    "MyQueue.put(1)\n",
    "MyQueue.put(2)\n",
    "print(MyQueue.full())\n"
   ]
  },
  {
   "cell_type": "code",
   "execution_count": 3,
   "metadata": {},
   "outputs": [
    {
     "name": "stdout",
     "output_type": "stream",
     "text": [
      "0\n",
      "['Greeting', 'MySayHello', 'MyVar', 'PrintList1', 'PrintList2', 'SayHello', '__class__', '__delattr__', '__dict__', '__dir__', '__doc__', '__eq__', '__format__', '__ge__', '__getattribute__', '__gt__', '__hash__', '__init__', '__init_subclass__', '__le__', '__lt__', '__module__', '__ne__', '__new__', '__reduce__', '__reduce_ex__', '__repr__', '__setattr__', '__sizeof__', '__str__', '__subclasshook__', '__weakref__']\n",
      "Hello there\n",
      "Hello there!\n",
      "0.Red\n",
      "1.Blue\n",
      "2.Green\n",
      "George likes Red\n",
      "Sue likes Blue\n",
      "Zarah likes Green\n"
     ]
    }
   ],
   "source": [
    "class MyClass:\n",
    "    MyVar=0\n",
    "    def __init__(self, Name=\"there\"):\n",
    "        self.Greeting = Name+ \"!\"\n",
    "        \n",
    "    def SayHello():\n",
    "        print(\"Hello there\")\n",
    "    def MySayHello(self):\n",
    "        print(\"Hello {0}\".format(self.Greeting))\n",
    "    def PrintList1(*args):\n",
    "        for Count, Item in enumerate(args):\n",
    "            print(\"{0}.{1}\".format(Count, Item))\n",
    "    def PrintList2(**kwargs):\n",
    "        for Name, Value in kwargs.items():\n",
    "            print(\"{0} likes {1}\".format(Name, Value))\n",
    "\n",
    "myInstance = MyClass()\n",
    "myInstance.__class__\n",
    "print(myInstance.MyVar)\n",
    "print(dir(myInstance))\n",
    "# help('__class__')\n",
    "MyClass.SayHello()\n",
    "myInstance.MySayHello()\n",
    "\n",
    "MyClass.PrintList1(\"Red\", \"Blue\", \"Green\")\n",
    "MyClass.PrintList2(George=\"Red\", Sue=\"Blue\", Zarah=\"Green\")\n"
   ]
  },
  {
   "cell_type": "code",
   "execution_count": 4,
   "metadata": {},
   "outputs": [
    {
     "name": "stdout",
     "output_type": "stream",
     "text": [
      "Red Green Blue  + Yellow Purple Cyan  = Red Green Blue Yellow Purple Cyan \n"
     ]
    }
   ],
   "source": [
    "class HisClass:\n",
    "    def __init__(self, *args):\n",
    "        self.Input = args\n",
    "    def __add__(self, Other):\n",
    "        Output=HisClass()\n",
    "        Output.Input= self.Input + Other.Input\n",
    "        return Output\n",
    "    def __str__(self):\n",
    "        Output=\"\"\n",
    "        for Item in self.Input:\n",
    "            Output += Item\n",
    "            Output += \" \"\n",
    "        return Output\n",
    "\n",
    "value1 = HisClass(\"Red\", \"Green\", \"Blue\")\n",
    "value2 = HisClass(\"Yellow\", \"Purple\", \"Cyan\")\n",
    "\n",
    "value3 = value1 + value2\n",
    "print(\"{0} + {1} = {2}\".format(value1, value2, value3))\n",
    "    "
   ]
  },
  {
   "cell_type": "code",
   "execution_count": 1,
   "metadata": {},
   "outputs": [],
   "source": [
    "def SayHello(Name):\n",
    "    print(\"Hello \", Name)\n",
    "    return\n",
    "def SayGoodbye(Name):\n",
    "    print(\"Goodbye \", Name)\n",
    "    return\n"
   ]
  },
  {
   "cell_type": "code",
   "execution_count": 5,
   "metadata": {},
   "outputs": [
    {
     "name": "stdout",
     "output_type": "stream",
     "text": [
      "Sam is aged 32.\n",
      "Amy is aged 44.\n",
      "Sally is a Chicken aged 2\n",
      "Sally is a Chicken aged 10\n",
      "Sally says Cluck!\n"
     ]
    }
   ],
   "source": [
    "import YourClass\n",
    "import animal\n",
    "SamsRecord=YourClass.YourClass()\n",
    "AmysRecord=YourClass.YourClass(\"Amy\",44)\n",
    "print(SamsRecord)\n",
    "print(AmysRecord)\n",
    "\n",
    "mychicken = animal.Chicken(\"Sally\",2)\n",
    "print(mychicken)\n",
    "mychicken.SetAge(10)\n",
    "print(mychicken)\n",
    "mychicken.MakeSound()\n"
   ]
  },
  {
   "cell_type": "code",
   "execution_count": 16,
   "metadata": {},
   "outputs": [
    {
     "name": "stdout",
     "output_type": "stream",
     "text": [
      "['FormatDataTwo', '__builtins__', '__cached__', '__doc__', '__file__', '__loader__', '__name__', '__package__', '__spec__', 'csv']\n"
     ]
    }
   ],
   "source": [
    "import storedata\n",
    "print(dir(storedata))"
   ]
  },
  {
   "cell_type": "code",
   "execution_count": 1,
   "metadata": {},
   "outputs": [
    {
     "name": "stdout",
     "output_type": "stream",
     "text": [
      "['FormatDataTwo', '__builtins__', '__cached__', '__doc__', '__file__', '__loader__', '__name__', '__package__', '__spec__', 'csv']\n",
      "Liaojie,32,True\n",
      "George,64,True\n",
      "Sally,54,False\n",
      "Doug,21,True\n",
      "Data saved!\n"
     ]
    }
   ],
   "source": [
    "from storedata import FormatDataTwo \n",
    "import storedata\n",
    "print(dir(storedata))\n",
    "valueData=FormatDataTwo(\"Liaojie\", 32,True)\n",
    "print(valueData)\n",
    "NewData=[FormatDataTwo(\"George\", 64, True),\n",
    "        FormatDataTwo(\"Sally\",54, False),\n",
    "        FormatDataTwo(\"Doug\", 21,True)]\n",
    "for Entry in NewData:\n",
    "    print(Entry)\n",
    "FormatDataTwo.SaveData(\"TestFile.csv\",NewData)\n"
   ]
  },
  {
   "cell_type": "code",
   "execution_count": 1,
   "metadata": {},
   "outputs": [
    {
     "name": "stdout",
     "output_type": "stream",
     "text": [
      "Data read!\n",
      "George,64,True\n",
      "Sally,54,False\n",
      "Doug,21,True\n"
     ]
    }
   ],
   "source": [
    "from storedata import FormatDataTwo\n",
    "\n",
    "newData = FormatDataTwo.ReadData(\"TestFile.csv\")\n",
    "for Entry in newData:\n",
    "    print(Entry)"
   ]
  },
  {
   "cell_type": "code",
   "execution_count": null,
   "metadata": {},
   "outputs": [],
   "source": []
  },
  {
   "cell_type": "code",
   "execution_count": null,
   "metadata": {},
   "outputs": [],
   "source": []
  }
 ],
 "metadata": {
  "kernelspec": {
   "display_name": "Python 3",
   "language": "python",
   "name": "python3"
  },
  "language_info": {
   "codemirror_mode": {
    "name": "ipython",
    "version": 3
   },
   "file_extension": ".py",
   "mimetype": "text/x-python",
   "name": "python",
   "nbconvert_exporter": "python",
   "pygments_lexer": "ipython3",
   "version": "3.7.3"
  }
 },
 "nbformat": 4,
 "nbformat_minor": 2
}
