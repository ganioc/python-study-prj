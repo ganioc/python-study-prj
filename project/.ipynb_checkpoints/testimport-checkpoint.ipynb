{
 "cells": [
  {
   "cell_type": "code",
   "execution_count": 14,
   "metadata": {},
   "outputs": [
    {
     "name": "stdout",
     "output_type": "stream",
     "text": [
      "/Users/yango3/Documents/yangjun/project/python-study-prj/project\n",
      "Untitled.ipynb\n",
      "__pycache__\n",
      "test.py\n",
      "testimport.ipynb\n",
      ".ipynb_checkpoints\n",
      "mypack.py\n",
      "Hello  go\n",
      "Goodbye  go\n",
      "['/Users/yango3/Documents/yangjun/project/python-study-prj/project', '/Users/yango3/anaconda3/lib/python37.zip', '/Users/yango3/anaconda3/lib/python3.7', '/Users/yango3/anaconda3/lib/python3.7/lib-dynload', '', '/Users/yango3/anaconda3/lib/python3.7/site-packages', '/Users/yango3/anaconda3/lib/python3.7/site-packages/aeosa', '/Users/yango3/anaconda3/lib/python3.7/site-packages/IPython/extensions', '/Users/yango3/.ipython']\n",
      "environ({'TERM_PROGRAM': 'Apple_Terminal', 'NVM_CD_FLAGS': '', 'TERM': 'xterm-color', 'SHELL': '/bin/bash', 'CLICOLOR': '1', 'TMPDIR': '/var/folders/nl/64_bxfh97h57z92mcgflrrtr0000gn/T/', 'Apple_PubSub_Socket_Render': '/private/tmp/com.apple.launchd.PlaqBs3dvi/Render', 'CONDA_SHLVL': '1', 'TERM_PROGRAM_VERSION': '421.2', 'CONDA_PROMPT_MODIFIER': '(base) ', 'TERM_SESSION_ID': '13F6C2D7-7C7A-4A1D-8DEE-7CDB2B4A6E20', 'USER': 'yango3', 'NVM_DIR': '/Users/yango3/.nvm', 'CONDA_EXE': '/Users/yango3/anaconda3/bin/conda', 'SSH_AUTH_SOCK': '/private/tmp/com.apple.launchd.OLjeVaLEE3/Listeners', 'LSCOLORS': 'GxFxCxDxBxegedabagaced', '_CE_CONDA': '', 'PATH': '/Users/yango3/.cargo/bin:/Users/yango3/anaconda3/bin:/Users/yango3/anaconda3/condabin:/usr/local/bin:/usr/local/sbin:/Users/yango3/.nvm/versions/node/v10.15.3/bin:/usr/local/bin:/usr/bin:/bin:/usr/sbin:/sbin:/Library/TeX/texbin:/opt/X11/bin', 'CONDA_PREFIX': '/Users/yango3/anaconda3', 'PWD': '/Users/yango3', 'XPC_FLAGS': '0x0', 'XPC_SERVICE_NAME': '0', '_CE_M': '', 'HOME': '/Users/yango3', 'SHLVL': '2', 'LOGNAME': 'yango3', 'CONDA_PYTHON_EXE': '/Users/yango3/anaconda3/bin/python', 'LC_CTYPE': 'UTF-8', 'NVM_BIN': '/Users/yango3/.nvm/versions/node/v10.15.3/bin', 'CONDA_DEFAULT_ENV': 'base', 'DISPLAY': '/private/tmp/com.apple.launchd.AiXMcfU38O/org.macosforge.xquartz:0', 'SECURITYSESSIONID': '186aa', '_': '/Users/yango3/anaconda3/bin/jupyter-notebook', 'JPY_PARENT_PID': '5826', 'PAGER': 'cat', 'GIT_PAGER': 'cat', 'MPLBACKEND': 'module://ipykernel.pylab.backend_inline'})\n"
     ]
    }
   ],
   "source": [
    "import os\n",
    "import mypack\n",
    "import sys\n",
    "print(os.getcwd())\n",
    "\n",
    "for entry in os.listdir():\n",
    "    print(entry)\n",
    "\n",
    "dir(mypack)\n",
    "    \n",
    "mypack.SayHello('go')\n",
    "mypack.SayGoodbye('go')\n",
    "\n",
    "# dir(mypack.SayHello)\n",
    "print(sys.path)\n",
    "print(os.environ)"
   ]
  },
  {
   "cell_type": "code",
   "execution_count": null,
   "metadata": {},
   "outputs": [],
   "source": []
  }
 ],
 "metadata": {
  "kernelspec": {
   "display_name": "Python 3",
   "language": "python",
   "name": "python3"
  },
  "language_info": {
   "codemirror_mode": {
    "name": "ipython",
    "version": 3
   },
   "file_extension": ".py",
   "mimetype": "text/x-python",
   "name": "python",
   "nbconvert_exporter": "python",
   "pygments_lexer": "ipython3",
   "version": "3.7.3"
  }
 },
 "nbformat": 4,
 "nbformat_minor": 2
}
