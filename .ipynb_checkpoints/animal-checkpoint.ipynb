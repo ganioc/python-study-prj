{
 "cells": [
  {
   "cell_type": "code",
   "execution_count": null,
   "metadata": {},
   "outputs": [],
   "source": [
    "class Animal:\n",
    "    def __init__(self, Name=\"\", Age=0, Type=\"\"):\n",
    "        self.Name = Name\n",
    "        self.Age = Age\n",
    "        self.Type = Type\n",
    "    def GetName(self):\n",
    "        return self.Name\n",
    "    def SetName(self, Name):\n",
    "        self.Name = Name\n",
    "    def GetAge(self):\n",
    "        return self.Age\n",
    "    def SetAge(self, Age):\n",
    "        self.Age = Age\n",
    "    def GetType(self):\n",
    "        return self.Type\n",
    "    def SetType(self, Type):\n",
    "        self.Type = Type\n",
    "    def __str__(self):\n",
    "        return \"{0} is a {1} aged {2}\".format(self.Name\n",
    "                                             self.Type\n",
    "                                             self.Age)\n",
    "class Chicken(Animal):\n",
    "    def __init__(self, Name=\"\", Age=0):\n",
    "        self.Name = Name\n",
    "        self.Age = Age\n",
    "        self.Type = \"Chicken\"\n",
    "    def SetType(self, Type):\n",
    "        print(\"Sorry, {0} will always be a {1}\".format(self.Name, self.Type))\n",
    "    def MakeSound(self):\n",
    "        print(\"{0} says Cluck!\".format(self.Name))"
   ]
  }
 ],
 "metadata": {
  "kernelspec": {
   "display_name": "Python 3",
   "language": "python",
   "name": "python3"
  },
  "language_info": {
   "codemirror_mode": {
    "name": "ipython",
    "version": 3
   },
   "file_extension": ".py",
   "mimetype": "text/x-python",
   "name": "python",
   "nbconvert_exporter": "python",
   "pygments_lexer": "ipython3",
   "version": "3.7.3"
  }
 },
 "nbformat": 4,
 "nbformat_minor": 2
}
