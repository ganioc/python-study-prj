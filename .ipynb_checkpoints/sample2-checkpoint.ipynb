{
 "cells": [
  {
   "cell_type": "markdown",
   "metadata": {},
   "source": [
    "# Hello, a sample"
   ]
  },
  {
   "cell_type": "code",
   "execution_count": null,
   "metadata": {
    "scrolled": true,
    "slideshow": {
     "slide_type": "-"
    }
   },
   "outputs": [],
   "source": [
    "\n",
    "print('Sample!')\n",
    "myVar = 3+4\n",
    "print(myVar)\n",
    "# Hello comment\n",
    "print(\"Next time\")"
   ]
  },
  {
   "cell_type": "code",
   "execution_count": null,
   "metadata": {},
   "outputs": [],
   "source": [
    "# This is a comment\n",
    "print('Hello')\n",
    "print(myVar)\n",
    "\n",
    "print(\"This is a really long line of text that will \" + \n",
    "      \"concatenation\")"
   ]
  },
  {
   "cell_type": "code",
   "execution_count": null,
   "metadata": {},
   "outputs": [],
   "source": [
    "# number type\n",
    "print(hex(14))\n",
    "myComplex = 3+4j\n",
    "print(myComplex.imag, myComplex.real)\n",
    "print(type(myComplex))"
   ]
  },
  {
   "cell_type": "code",
   "execution_count": null,
   "metadata": {},
   "outputs": [],
   "source": [
    "# datetime\n",
    "import datetime\n",
    "mTime = datetime.datetime.now()\n",
    "print(datetime.datetime.now())\n",
    "print('Get the date')\n",
    "print(mTime.date())\n",
    "print(mTime.time())"
   ]
  },
  {
   "cell_type": "code",
   "execution_count": null,
   "metadata": {},
   "outputs": [],
   "source": [
    "print(True if False else False)\n"
   ]
  },
  {
   "cell_type": "code",
   "execution_count": null,
   "metadata": {},
   "outputs": [],
   "source": [
    "def Hello():\n",
    "    print(\"this is a hello() function\")\n",
    "def Hello2(greeting):\n",
    "    print(greeting)"
   ]
  },
  {
   "cell_type": "code",
   "execution_count": null,
   "metadata": {},
   "outputs": [],
   "source": [
    "Hello()\n",
    "Hello2('Guy')\n",
    "TestMe = 6\n",
    "if TestMe == 6:\n",
    "    print(\"TestMe is equal\")\n",
    "\n",
    "# input some string\n",
    "value = input(\"Type insome characters:\")\n",
    "letterNum = 1\n",
    "\n",
    "for letter in value:\n",
    "    print('Letter ', letterNum, ' is ', letter)\n",
    "    letterNum += 1\n",
    "else:\n",
    "    print(\"the string is blank.\")\n",
    "\n",
    "print('letterNum:', letterNum)\n",
    "    "
   ]
  },
  {
   "cell_type": "code",
   "execution_count": 11,
   "metadata": {},
   "outputs": [
    {
     "name": "stdout",
     "output_type": "stream",
     "text": [
      "this is the generic error!\n"
     ]
    }
   ],
   "source": [
    "try:\n",
    "    value=int(input(\"type in a number between 1 and 10\"))\n",
    "except ValueError:\n",
    "    print(\"You must type in a valid number\")\n",
    "except:\n",
    "    print(\"this is the generic error!\")\n",
    "else:\n",
    "    if(value >0) and (value <=10):\n",
    "        print(\"You typed:\", value)\n",
    "    else:\n",
    "        print(\"The value is incorredt\")\n",
    "\n",
    "        "
   ]
  },
  {
   "cell_type": "code",
   "execution_count": null,
   "metadata": {},
   "outputs": [],
   "source": [
    "# open file, and exception catching\n",
    "import sys\n",
    "\n",
    "try:\n",
    "    file =  open('myfile.txt')\n",
    "except IOError as e:\n",
    "    print(\"Error Number:{0}\".format(e.errno), \"Error text:{0}\".format(e.strerror))\n",
    "else:\n",
    "    print(\"File opened\")\n",
    "    print(file.getLine())\n",
    "    file.close()\n",
    "\n",
    "\n",
    "    "
   ]
  }
 ],
 "metadata": {
  "kernelspec": {
   "display_name": "Python 3",
   "language": "python",
   "name": "python3"
  },
  "language_info": {
   "codemirror_mode": {
    "name": "ipython",
    "version": 3
   },
   "file_extension": ".py",
   "mimetype": "text/x-python",
   "name": "python",
   "nbconvert_exporter": "python",
   "pygments_lexer": "ipython3",
   "version": "3.7.3"
  }
 },
 "nbformat": 4,
 "nbformat_minor": 2
}
