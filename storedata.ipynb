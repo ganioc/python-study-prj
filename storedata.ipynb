{
 "cells": [
  {
   "cell_type": "code",
   "execution_count": 3,
   "metadata": {},
   "outputs": [],
   "source": [
    "import csv\n",
    "\n",
    "class FormatDataTwo:\n",
    "    def __init__(self, Name=\"\",Age=0, Married=False):\n",
    "        self.Name = Name\n",
    "        self.Age=Age\n",
    "        self.Married=Married\n",
    "    def __str__(self):\n",
    "        OutString=\"{0},{1},{2}\".format(self.Name, self.Age, self.Married)\n",
    "        return OutString\n",
    "    def SaveData(Filename=\"\", DataList=[]):\n",
    "        with open(Filename, \"w\", newline='\\n') as csvfile:\n",
    "            DataWriter = csv.writer(\n",
    "                csvfile,\n",
    "                delimiter='\\n',\n",
    "                quotechar=\"'\",\n",
    "                quoting=csv.QUOTE_NONNUMERIC)\n",
    "            DataWriter.writerow(DataList)\n",
    "            csvfile.close()\n",
    "            print(\"Data saved!\")\n",
    "    def ReadData(Filename=\"\"):\n",
    "        with open(Filename,\n",
    "                 \"r\",\n",
    "                 newline=\"\\n\") as csvfile:\n",
    "            DataReader=csv.reader(csvfile,\n",
    "                                 delimiter=\"\\n\",\n",
    "                                 quotechar=\"'\",\n",
    "                                 quoting=csv.QUOTE_NONNUMERIC)\n",
    "            Output=[]\n",
    "            for Item in DataReader:\n",
    "                Output.append(Item[0])\n",
    "            csvfile.close()\n",
    "            print(\"Data read!\")\n",
    "            return Output\n",
    "    \n",
    "            \n"
   ]
  },
  {
   "cell_type": "code",
   "execution_count": null,
   "metadata": {},
   "outputs": [],
   "source": []
  }
 ],
 "metadata": {
  "kernelspec": {
   "display_name": "Python 3",
   "language": "python",
   "name": "python3"
  },
  "language_info": {
   "codemirror_mode": {
    "name": "ipython",
    "version": 3
   },
   "file_extension": ".py",
   "mimetype": "text/x-python",
   "name": "python",
   "nbconvert_exporter": "python",
   "pygments_lexer": "ipython3",
   "version": "3.7.3"
  }
 },
 "nbformat": 4,
 "nbformat_minor": 2
}
